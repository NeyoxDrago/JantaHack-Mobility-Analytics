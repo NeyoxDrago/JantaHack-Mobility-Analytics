{
  "nbformat": 4,
  "nbformat_minor": 0,
  "metadata": {
    "colab": {
      "name": "jantaHack_Mobility analytics.ipynb",
      "provenance": [],
      "toc_visible": true
    },
    "kernelspec": {
      "name": "python3",
      "display_name": "Python 3"
    },
    "accelerator": "GPU"
  },
  "cells": [
    {
      "cell_type": "code",
      "metadata": {
        "id": "aKu4J4bvc-63",
        "colab_type": "code",
        "outputId": "2fa74c8d-a282-4ef8-e21a-1274dd1a5a28",
        "colab": {
          "base_uri": "https://localhost:8080/",
          "height": 34
        }
      },
      "source": [
        "!git clone https://github.com/NeyoxDrago/JantaHack-Mobility-Analytics.git"
      ],
      "execution_count": 3,
      "outputs": [
        {
          "output_type": "stream",
          "text": [
            "fatal: destination path 'JantaHack-Mobility-Analytics' already exists and is not an empty directory.\n"
          ],
          "name": "stdout"
        }
      ]
    },
    {
      "cell_type": "code",
      "metadata": {
        "id": "x9wr0gOodCgd",
        "colab_type": "code",
        "outputId": "0b378fd4-45e2-4cff-f322-33b3a148a30b",
        "colab": {
          "base_uri": "https://localhost:8080/",
          "height": 422
        }
      },
      "source": [
        "import pandas as pd\n",
        "train = pd.read_csv(\"JantaHack-Mobility-Analytics/train.csv\")\n",
        "test = pd.read_csv(\"JantaHack-Mobility-Analytics/test.csv\")\n",
        "TARGET = \"Surge_Pricing_Type\"\n",
        "df = pd.concat([train,test]).reset_index(drop=True)\n",
        "df"
      ],
      "execution_count": 157,
      "outputs": [
        {
          "output_type": "execute_result",
          "data": {
            "text/html": [
              "<div>\n",
              "<style scoped>\n",
              "    .dataframe tbody tr th:only-of-type {\n",
              "        vertical-align: middle;\n",
              "    }\n",
              "\n",
              "    .dataframe tbody tr th {\n",
              "        vertical-align: top;\n",
              "    }\n",
              "\n",
              "    .dataframe thead th {\n",
              "        text-align: right;\n",
              "    }\n",
              "</style>\n",
              "<table border=\"1\" class=\"dataframe\">\n",
              "  <thead>\n",
              "    <tr style=\"text-align: right;\">\n",
              "      <th></th>\n",
              "      <th>Trip_ID</th>\n",
              "      <th>Trip_Distance</th>\n",
              "      <th>Type_of_Cab</th>\n",
              "      <th>Customer_Since_Months</th>\n",
              "      <th>Life_Style_Index</th>\n",
              "      <th>Confidence_Life_Style_Index</th>\n",
              "      <th>Destination_Type</th>\n",
              "      <th>Customer_Rating</th>\n",
              "      <th>Cancellation_Last_1Month</th>\n",
              "      <th>Var1</th>\n",
              "      <th>Var2</th>\n",
              "      <th>Var3</th>\n",
              "      <th>Gender</th>\n",
              "      <th>Surge_Pricing_Type</th>\n",
              "    </tr>\n",
              "  </thead>\n",
              "  <tbody>\n",
              "    <tr>\n",
              "      <th>0</th>\n",
              "      <td>T0005689460</td>\n",
              "      <td>6.77</td>\n",
              "      <td>B</td>\n",
              "      <td>1.0</td>\n",
              "      <td>2.42769</td>\n",
              "      <td>A</td>\n",
              "      <td>A</td>\n",
              "      <td>3.90500</td>\n",
              "      <td>0</td>\n",
              "      <td>40.0</td>\n",
              "      <td>46</td>\n",
              "      <td>60</td>\n",
              "      <td>Female</td>\n",
              "      <td>2.0</td>\n",
              "    </tr>\n",
              "    <tr>\n",
              "      <th>1</th>\n",
              "      <td>T0005689461</td>\n",
              "      <td>29.47</td>\n",
              "      <td>B</td>\n",
              "      <td>10.0</td>\n",
              "      <td>2.78245</td>\n",
              "      <td>B</td>\n",
              "      <td>A</td>\n",
              "      <td>3.45000</td>\n",
              "      <td>0</td>\n",
              "      <td>38.0</td>\n",
              "      <td>56</td>\n",
              "      <td>78</td>\n",
              "      <td>Male</td>\n",
              "      <td>2.0</td>\n",
              "    </tr>\n",
              "    <tr>\n",
              "      <th>2</th>\n",
              "      <td>T0005689464</td>\n",
              "      <td>41.58</td>\n",
              "      <td>NaN</td>\n",
              "      <td>10.0</td>\n",
              "      <td>NaN</td>\n",
              "      <td>NaN</td>\n",
              "      <td>E</td>\n",
              "      <td>3.50125</td>\n",
              "      <td>2</td>\n",
              "      <td>NaN</td>\n",
              "      <td>56</td>\n",
              "      <td>77</td>\n",
              "      <td>Male</td>\n",
              "      <td>2.0</td>\n",
              "    </tr>\n",
              "    <tr>\n",
              "      <th>3</th>\n",
              "      <td>T0005689465</td>\n",
              "      <td>61.56</td>\n",
              "      <td>C</td>\n",
              "      <td>10.0</td>\n",
              "      <td>NaN</td>\n",
              "      <td>NaN</td>\n",
              "      <td>A</td>\n",
              "      <td>3.45375</td>\n",
              "      <td>0</td>\n",
              "      <td>NaN</td>\n",
              "      <td>52</td>\n",
              "      <td>74</td>\n",
              "      <td>Male</td>\n",
              "      <td>3.0</td>\n",
              "    </tr>\n",
              "    <tr>\n",
              "      <th>4</th>\n",
              "      <td>T0005689467</td>\n",
              "      <td>54.95</td>\n",
              "      <td>C</td>\n",
              "      <td>10.0</td>\n",
              "      <td>3.03453</td>\n",
              "      <td>B</td>\n",
              "      <td>A</td>\n",
              "      <td>3.40250</td>\n",
              "      <td>4</td>\n",
              "      <td>51.0</td>\n",
              "      <td>49</td>\n",
              "      <td>102</td>\n",
              "      <td>Male</td>\n",
              "      <td>2.0</td>\n",
              "    </tr>\n",
              "    <tr>\n",
              "      <th>...</th>\n",
              "      <td>...</td>\n",
              "      <td>...</td>\n",
              "      <td>...</td>\n",
              "      <td>...</td>\n",
              "      <td>...</td>\n",
              "      <td>...</td>\n",
              "      <td>...</td>\n",
              "      <td>...</td>\n",
              "      <td>...</td>\n",
              "      <td>...</td>\n",
              "      <td>...</td>\n",
              "      <td>...</td>\n",
              "      <td>...</td>\n",
              "      <td>...</td>\n",
              "    </tr>\n",
              "    <tr>\n",
              "      <th>219052</th>\n",
              "      <td>T0005908503</td>\n",
              "      <td>29.43</td>\n",
              "      <td>C</td>\n",
              "      <td>3.0</td>\n",
              "      <td>2.40720</td>\n",
              "      <td>C</td>\n",
              "      <td>A</td>\n",
              "      <td>0.99750</td>\n",
              "      <td>0</td>\n",
              "      <td>74.0</td>\n",
              "      <td>48</td>\n",
              "      <td>72</td>\n",
              "      <td>Female</td>\n",
              "      <td>NaN</td>\n",
              "    </tr>\n",
              "    <tr>\n",
              "      <th>219053</th>\n",
              "      <td>T0005908504</td>\n",
              "      <td>14.83</td>\n",
              "      <td>C</td>\n",
              "      <td>10.0</td>\n",
              "      <td>2.57009</td>\n",
              "      <td>A</td>\n",
              "      <td>D</td>\n",
              "      <td>4.74375</td>\n",
              "      <td>0</td>\n",
              "      <td>109.0</td>\n",
              "      <td>42</td>\n",
              "      <td>60</td>\n",
              "      <td>Female</td>\n",
              "      <td>NaN</td>\n",
              "    </tr>\n",
              "    <tr>\n",
              "      <th>219054</th>\n",
              "      <td>T0005908505</td>\n",
              "      <td>37.86</td>\n",
              "      <td>A</td>\n",
              "      <td>6.0</td>\n",
              "      <td>3.08227</td>\n",
              "      <td>C</td>\n",
              "      <td>A</td>\n",
              "      <td>1.63500</td>\n",
              "      <td>0</td>\n",
              "      <td>NaN</td>\n",
              "      <td>57</td>\n",
              "      <td>77</td>\n",
              "      <td>Male</td>\n",
              "      <td>NaN</td>\n",
              "    </tr>\n",
              "    <tr>\n",
              "      <th>219055</th>\n",
              "      <td>T0005908511</td>\n",
              "      <td>10.63</td>\n",
              "      <td>C</td>\n",
              "      <td>1.0</td>\n",
              "      <td>NaN</td>\n",
              "      <td>NaN</td>\n",
              "      <td>J</td>\n",
              "      <td>2.59875</td>\n",
              "      <td>1</td>\n",
              "      <td>107.0</td>\n",
              "      <td>51</td>\n",
              "      <td>77</td>\n",
              "      <td>Male</td>\n",
              "      <td>NaN</td>\n",
              "    </tr>\n",
              "    <tr>\n",
              "      <th>219056</th>\n",
              "      <td>T0005908515</td>\n",
              "      <td>37.96</td>\n",
              "      <td>B</td>\n",
              "      <td>10.0</td>\n",
              "      <td>3.00274</td>\n",
              "      <td>A</td>\n",
              "      <td>A</td>\n",
              "      <td>2.05500</td>\n",
              "      <td>0</td>\n",
              "      <td>NaN</td>\n",
              "      <td>48</td>\n",
              "      <td>73</td>\n",
              "      <td>Female</td>\n",
              "      <td>NaN</td>\n",
              "    </tr>\n",
              "  </tbody>\n",
              "</table>\n",
              "<p>219057 rows × 14 columns</p>\n",
              "</div>"
            ],
            "text/plain": [
              "            Trip_ID  Trip_Distance  ...  Gender  Surge_Pricing_Type\n",
              "0       T0005689460           6.77  ...  Female                 2.0\n",
              "1       T0005689461          29.47  ...    Male                 2.0\n",
              "2       T0005689464          41.58  ...    Male                 2.0\n",
              "3       T0005689465          61.56  ...    Male                 3.0\n",
              "4       T0005689467          54.95  ...    Male                 2.0\n",
              "...             ...            ...  ...     ...                 ...\n",
              "219052  T0005908503          29.43  ...  Female                 NaN\n",
              "219053  T0005908504          14.83  ...  Female                 NaN\n",
              "219054  T0005908505          37.86  ...    Male                 NaN\n",
              "219055  T0005908511          10.63  ...    Male                 NaN\n",
              "219056  T0005908515          37.96  ...  Female                 NaN\n",
              "\n",
              "[219057 rows x 14 columns]"
            ]
          },
          "metadata": {
            "tags": []
          },
          "execution_count": 157
        }
      ]
    },
    {
      "cell_type": "code",
      "metadata": {
        "id": "YgerUQoGOjZd",
        "colab_type": "code",
        "colab": {
          "base_uri": "https://localhost:8080/",
          "height": 269
        },
        "outputId": "e204dff2-9f80-452b-ce4b-cd2b7ac3ff72"
      },
      "source": [
        "df.isnull().sum()"
      ],
      "execution_count": 158,
      "outputs": [
        {
          "output_type": "execute_result",
          "data": {
            "text/plain": [
              "Trip_ID                             0\n",
              "Trip_Distance                       0\n",
              "Type_of_Cab                     33368\n",
              "Customer_Since_Months            9886\n",
              "Life_Style_Index                33520\n",
              "Confidence_Life_Style_Index     33520\n",
              "Destination_Type                    0\n",
              "Customer_Rating                     0\n",
              "Cancellation_Last_1Month            0\n",
              "Var1                           117819\n",
              "Var2                                0\n",
              "Var3                                0\n",
              "Gender                              0\n",
              "Surge_Pricing_Type              87395\n",
              "dtype: int64"
            ]
          },
          "metadata": {
            "tags": []
          },
          "execution_count": 158
        }
      ]
    },
    {
      "cell_type": "code",
      "metadata": {
        "id": "V0PUQHNYIaCv",
        "colab_type": "code",
        "colab": {}
      },
      "source": [
        "from sklearn.impute import KNNImputer\n",
        "imputer = KNNImputer(n_neighbors=6)\n",
        "df['Life_Style_Index'] = imputer.fit_transform(df[['Life_Style_Index']])\n",
        "df['Var1'] = imputer.fit_transform(df[['Var1']])\n",
        "df['Customer_Since_Months'] = imputer.fit_transform(df[['Customer_Since_Months']])"
      ],
      "execution_count": 0,
      "outputs": []
    },
    {
      "cell_type": "code",
      "metadata": {
        "id": "riaoz4ufjIIl",
        "colab_type": "code",
        "colab": {
          "base_uri": "https://localhost:8080/",
          "height": 269
        },
        "outputId": "6e8598f8-6ac4-4a5d-d85c-2c144476d4c5"
      },
      "source": [
        "df.isnull().sum()"
      ],
      "execution_count": 166,
      "outputs": [
        {
          "output_type": "execute_result",
          "data": {
            "text/plain": [
              "Trip_ID                            0\n",
              "Trip_Distance                      0\n",
              "Type_of_Cab                    33368\n",
              "Customer_Since_Months              0\n",
              "Life_Style_Index                   0\n",
              "Confidence_Life_Style_Index    33520\n",
              "Destination_Type                   0\n",
              "Customer_Rating                    0\n",
              "Cancellation_Last_1Month           0\n",
              "Var1                               0\n",
              "Var2                               0\n",
              "Var3                               0\n",
              "Gender                             0\n",
              "Surge_Pricing_Type             87395\n",
              "dtype: int64"
            ]
          },
          "metadata": {
            "tags": []
          },
          "execution_count": 166
        }
      ]
    },
    {
      "cell_type": "code",
      "metadata": {
        "id": "cnnDnvlqS66e",
        "colab_type": "code",
        "colab": {}
      },
      "source": [
        "import numpy as np \n",
        "import seaborn as sns\n",
        "from sklearn.preprocessing import LabelEncoder\n",
        "import matplotlib.pyplot as plt\n",
        "\n",
        "def impute(df,column):\n",
        "  m=dict((w,i) for i,w in enumerate(set(df[column].dropna())))\n",
        "  knn_imputer = KNNImputer()\n",
        "  imputed_values = knn_imputer.fit_transform([df[column].map(d).values])[0]\n",
        "  return imputed_values\n",
        "\n",
        "df['Type_of_Cab_imputed'] = impute(df,\"Type_of_Cab\")\n",
        "df['Confidence_Life_Style_Index_imputed'] = impute(df,\"Confidence_Life_Style_Index\")"
      ],
      "execution_count": 0,
      "outputs": []
    },
    {
      "cell_type": "code",
      "metadata": {
        "id": "Czv8QP9hWOMC",
        "colab_type": "code",
        "colab": {}
      },
      "source": [
        "df.to_csv(\"all_data.csv\",index=None)"
      ],
      "execution_count": 0,
      "outputs": []
    },
    {
      "cell_type": "code",
      "metadata": {
        "id": "0DmVVgVGgTAB",
        "colab_type": "code",
        "colab": {
          "base_uri": "https://localhost:8080/",
          "height": 286
        },
        "outputId": "3799f8d3-a6af-4617-84c0-df7e82fabda5"
      },
      "source": [
        "!unrar e all_data.rar"
      ],
      "execution_count": 3,
      "outputs": [
        {
          "output_type": "stream",
          "text": [
            "\n",
            "UNRAR 5.50 freeware      Copyright (c) 1993-2017 Alexander Roshal\n",
            "\n",
            "\n",
            "Extracting from all_data.rar\n",
            "\n",
            "\n",
            "Would you like to replace the existing file all_data.csv\n",
            "3145728 bytes, modified on 2020-05-17 16:38\n",
            "with a new one\n",
            "18261926 bytes, modified on 2020-05-17 22:05\n",
            "\n",
            "[Y]es, [N]o, [A]ll, n[E]ver, [R]ename, [Q]uit Y\n",
            "\n",
            "Extracting  all_data.csv                                                 \b\b\b\b  0%\b\b\b\b  1%\b\b\b\b  2%\b\b\b\b  3%\b\b\b\b  4%\b\b\b\b  5%\b\b\b\b  6%\b\b\b\b  7%\b\b\b\b  8%\b\b\b\b  9%\b\b\b\b 10%\b\b\b\b 11%\b\b\b\b 12%\b\b\b\b 13%\b\b\b\b 14%\b\b\b\b 15%\b\b\b\b 16%\b\b\b\b 17%\b\b\b\b 18%\b\b\b\b 19%\b\b\b\b 20%\b\b\b\b 21%\b\b\b\b 22%\b\b\b\b 23%\b\b\b\b 24%\b\b\b\b 25%\b\b\b\b 26%\b\b\b\b 27%\b\b\b\b 28%\b\b\b\b 29%\b\b\b\b 30%\b\b\b\b 31%\b\b\b\b 32%\b\b\b\b 33%\b\b\b\b 34%\b\b\b\b 35%\b\b\b\b 36%\b\b\b\b 37%\b\b\b\b 38%\b\b\b\b 39%\b\b\b\b 40%\b\b\b\b 41%\b\b\b\b 42%\b\b\b\b 43%\b\b\b\b 44%\b\b\b\b 45%\b\b\b\b 46%\b\b\b\b 47%\b\b\b\b 48%\b\b\b\b 49%\b\b\b\b 50%\b\b\b\b 51%\b\b\b\b 52%\b\b\b\b 53%\b\b\b\b 54%\b\b\b\b 55%\b\b\b\b 56%\b\b\b\b 57%\b\b\b\b 58%\b\b\b\b 59%\b\b\b\b 60%\b\b\b\b 61%\b\b\b\b 62%\b\b\b\b 63%\b\b\b\b 64%\b\b\b\b 65%\b\b\b\b 66%\b\b\b\b 67%\b\b\b\b 68%\b\b\b\b 69%\b\b\b\b 70%\b\b\b\b 71%\b\b\b\b 72%\b\b\b\b 73%\b\b\b\b 74%\b\b\b\b 75%\b\b\b\b 76%\b\b\b\b 77%\b\b\b\b 78%\b\b\b\b 79%\b\b\b\b 80%\b\b\b\b 81%\b\b\b\b 82%\b\b\b\b 83%\b\b\b\b 84%\b\b\b\b 85%\b\b\b\b 86%\b\b\b\b 87%\b\b\b\b 88%\b\b\b\b 89%\b\b\b\b 90%\b\b\b\b 91%\b\b\b\b 92%\b\b\b\b 93%\b\b\b\b 94%\b\b\b\b 95%\b\b\b\b 96%\b\b\b\b 97%\b\b\b\b 98%\b\b\b\b 99%\b\b\b\b\b  OK \n",
            "All OK\n"
          ],
          "name": "stdout"
        }
      ]
    },
    {
      "cell_type": "code",
      "metadata": {
        "id": "06QHjlBAFV_F",
        "colab_type": "code",
        "colab": {}
      },
      "source": [
        "import pandas as pd\n",
        "merged_data =pd.read_csv(\"all_data.csv\")\n",
        "\n",
        "from sklearn.preprocessing import LabelEncoder\n",
        "encoder = LabelEncoder()\n",
        "merged_data['Gender'] = encoder.fit_transform(merged_data['Gender'])\n",
        "\n",
        "merged_data['Type_of_Cab_imputed'] = merged_data['Type_of_Cab_imputed'].apply(lambda x:int(x))\n",
        "merged_data['Confidence_Life_Style_Index_imputed'] = merged_data['Confidence_Life_Style_Index_imputed'].apply(lambda x:int(x))\n",
        "\n",
        "\n",
        "train = merged_data[~merged_data.Surge_Pricing_Type.isna()] \n",
        "test = merged_data[merged_data.Surge_Pricing_Type.isna()] "
      ],
      "execution_count": 0,
      "outputs": []
    },
    {
      "cell_type": "code",
      "metadata": {
        "id": "aTb-18-Ufcu3",
        "colab_type": "code",
        "outputId": "d808b33b-dafb-4aa7-eccd-8f22759ca8dd",
        "colab": {
          "base_uri": "https://localhost:8080/",
          "height": 339
        }
      },
      "source": [
        "!pip install catboost"
      ],
      "execution_count": 5,
      "outputs": [
        {
          "output_type": "stream",
          "text": [
            "Collecting catboost\n",
            "\u001b[?25l  Downloading https://files.pythonhosted.org/packages/51/fb/6eddb2667ee55c39bd12ab6676c412726fcbc86e1c0364fda8e6c3a62bc3/catboost-0.23.1-cp36-none-manylinux1_x86_64.whl (64.7MB)\n",
            "\u001b[K     |████████████████████████████████| 64.7MB 61kB/s \n",
            "\u001b[?25hRequirement already satisfied: scipy in /usr/local/lib/python3.6/dist-packages (from catboost) (1.4.1)\n",
            "Requirement already satisfied: graphviz in /usr/local/lib/python3.6/dist-packages (from catboost) (0.10.1)\n",
            "Requirement already satisfied: plotly in /usr/local/lib/python3.6/dist-packages (from catboost) (4.4.1)\n",
            "Requirement already satisfied: numpy>=1.16.0 in /usr/local/lib/python3.6/dist-packages (from catboost) (1.18.4)\n",
            "Requirement already satisfied: matplotlib in /usr/local/lib/python3.6/dist-packages (from catboost) (3.2.1)\n",
            "Requirement already satisfied: six in /usr/local/lib/python3.6/dist-packages (from catboost) (1.12.0)\n",
            "Requirement already satisfied: pandas>=0.24.0 in /usr/local/lib/python3.6/dist-packages (from catboost) (1.0.3)\n",
            "Requirement already satisfied: retrying>=1.3.3 in /usr/local/lib/python3.6/dist-packages (from plotly->catboost) (1.3.3)\n",
            "Requirement already satisfied: pyparsing!=2.0.4,!=2.1.2,!=2.1.6,>=2.0.1 in /usr/local/lib/python3.6/dist-packages (from matplotlib->catboost) (2.4.7)\n",
            "Requirement already satisfied: kiwisolver>=1.0.1 in /usr/local/lib/python3.6/dist-packages (from matplotlib->catboost) (1.2.0)\n",
            "Requirement already satisfied: cycler>=0.10 in /usr/local/lib/python3.6/dist-packages (from matplotlib->catboost) (0.10.0)\n",
            "Requirement already satisfied: python-dateutil>=2.1 in /usr/local/lib/python3.6/dist-packages (from matplotlib->catboost) (2.8.1)\n",
            "Requirement already satisfied: pytz>=2017.2 in /usr/local/lib/python3.6/dist-packages (from pandas>=0.24.0->catboost) (2018.9)\n",
            "Installing collected packages: catboost\n",
            "Successfully installed catboost-0.23.1\n"
          ],
          "name": "stdout"
        }
      ]
    },
    {
      "cell_type": "code",
      "metadata": {
        "id": "v5w_4s4QfeMF",
        "colab_type": "code",
        "colab": {}
      },
      "source": [
        "from catboost import CatBoostClassifier\n",
        "from xgboost import XGBClassifier\n",
        "from sklearn.linear_model import LogisticRegression\n",
        "from sklearn.svm import SVC\n",
        "from sklearn.model_selection import train_test_split\n",
        "from sklearn.preprocessing import StandardScaler,RobustScaler,MinMaxScaler\n",
        "from sklearn.metrics import accuracy_score"
      ],
      "execution_count": 0,
      "outputs": []
    },
    {
      "cell_type": "code",
      "metadata": {
        "id": "JAjc-MGTxjBk",
        "colab_type": "code",
        "colab": {}
      },
      "source": [
        "drop_cols = [\"Type_of_Cab\",\"Confidence_Life_Style_Index\"]\n",
        "train_data,test_data = train_test_split(train.drop(drop_cols,axis=1),test_size=0.2,shuffle=True,random_state=11)\n",
        "\n",
        "TARGET = \"Surge_Pricing_Type\""
      ],
      "execution_count": 0,
      "outputs": []
    },
    {
      "cell_type": "code",
      "metadata": {
        "id": "0nJfrVGngazP",
        "colab_type": "code",
        "outputId": "d03eb5e6-9e7a-49bc-bbd4-d7d38534a0ec",
        "colab": {
          "base_uri": "https://localhost:8080/",
          "height": 252
        }
      },
      "source": [
        "X = train_data.drop([TARGET,\"Trip_ID\"],axis=1)\n",
        "Y = train_data[TARGET]\n",
        "\n",
        "X_test = test_data.drop([TARGET,\"Trip_ID\"],axis=1)\n",
        "Y_test = test_data[TARGET]\n",
        "\n",
        "cat_params ={\n",
        "    \"iterations\":2000,\n",
        "    # 'random_seed': 7,\n",
        "    \"od_type\":\"Iter\",\n",
        "    \"eval_metric\":\"Accuracy\",\n",
        "    \"task_type\":\"GPU\",\n",
        "    \"verbose\":100,\n",
        "    \"early_stopping_rounds\":400,\n",
        "    # \"boosting_type\":'Plain'\n",
        "}\n",
        "\n",
        "model = CatBoostClassifier(cat_features=[3,7,8,9,10,11],**cat_params)\n",
        "model.fit(X,Y,eval_set=(X_test,Y_test))\n",
        "score = accuracy_score(Y_test,model.predict(X_test))\n",
        "print(\"Score : \",score)"
      ],
      "execution_count": 123,
      "outputs": [
        {
          "output_type": "stream",
          "text": [
            "Learning rate set to 0.124325\n",
            "0:\tlearn: 0.6798792\ttest: 0.6792997\tbest: 0.6792997 (0)\ttotal: 30ms\tremaining: 1m\n",
            "100:\tlearn: 0.7059499\ttest: 0.6997304\tbest: 0.7000722 (98)\ttotal: 2.18s\tremaining: 40.9s\n",
            "200:\tlearn: 0.7105735\ttest: 0.7018570\tbest: 0.7018570 (200)\ttotal: 4.23s\tremaining: 37.8s\n",
            "300:\tlearn: 0.7139439\ttest: 0.7025785\tbest: 0.7026545 (297)\ttotal: 6.33s\tremaining: 35.8s\n",
            "400:\tlearn: 0.7167921\ttest: 0.7033000\tbest: 0.7033000 (400)\ttotal: 8.46s\tremaining: 33.7s\n",
            "500:\tlearn: 0.7200581\ttest: 0.7028823\tbest: 0.7035279 (434)\ttotal: 10.7s\tremaining: 31.9s\n",
            "600:\tlearn: 0.7228778\ttest: 0.7019709\tbest: 0.7035279 (434)\ttotal: 13s\tremaining: 30.3s\n",
            "700:\tlearn: 0.7261913\ttest: 0.7024266\tbest: 0.7035279 (434)\ttotal: 15.4s\tremaining: 28.6s\n",
            "800:\tlearn: 0.7286882\ttest: 0.7027304\tbest: 0.7035279 (434)\ttotal: 18s\tremaining: 26.9s\n",
            "bestTest = 0.7035278928\n",
            "bestIteration = 434\n",
            "Shrink model to first 435 iterations.\n",
            "Score :  0.7035278927581362\n"
          ],
          "name": "stdout"
        }
      ]
    },
    {
      "cell_type": "markdown",
      "metadata": {
        "id": "AaEPocAon_9f",
        "colab_type": "text"
      },
      "source": [
        "# Testing Time"
      ]
    },
    {
      "cell_type": "code",
      "metadata": {
        "id": "StMadjaFoBlZ",
        "colab_type": "code",
        "outputId": "df1055f7-54dd-46c9-adc6-2f24a9b912bc",
        "colab": {
          "base_uri": "https://localhost:8080/",
          "height": 299
        }
      },
      "source": [
        "test.dropna(axis=1,inplace=True)\n",
        "test.head()"
      ],
      "execution_count": 13,
      "outputs": [
        {
          "output_type": "stream",
          "text": [
            "/usr/local/lib/python3.6/dist-packages/ipykernel_launcher.py:1: SettingWithCopyWarning: \n",
            "A value is trying to be set on a copy of a slice from a DataFrame\n",
            "\n",
            "See the caveats in the documentation: https://pandas.pydata.org/pandas-docs/stable/user_guide/indexing.html#returning-a-view-versus-a-copy\n",
            "  \"\"\"Entry point for launching an IPython kernel.\n"
          ],
          "name": "stderr"
        },
        {
          "output_type": "execute_result",
          "data": {
            "text/html": [
              "<div>\n",
              "<style scoped>\n",
              "    .dataframe tbody tr th:only-of-type {\n",
              "        vertical-align: middle;\n",
              "    }\n",
              "\n",
              "    .dataframe tbody tr th {\n",
              "        vertical-align: top;\n",
              "    }\n",
              "\n",
              "    .dataframe thead th {\n",
              "        text-align: right;\n",
              "    }\n",
              "</style>\n",
              "<table border=\"1\" class=\"dataframe\">\n",
              "  <thead>\n",
              "    <tr style=\"text-align: right;\">\n",
              "      <th></th>\n",
              "      <th>Trip_ID</th>\n",
              "      <th>Trip_Distance</th>\n",
              "      <th>Customer_Since_Months</th>\n",
              "      <th>Life_Style_Index</th>\n",
              "      <th>Destination_Type</th>\n",
              "      <th>Customer_Rating</th>\n",
              "      <th>Cancellation_Last_1Month</th>\n",
              "      <th>Var1</th>\n",
              "      <th>Var2</th>\n",
              "      <th>Var3</th>\n",
              "      <th>Gender</th>\n",
              "      <th>Type_of_Cab_imputed</th>\n",
              "      <th>Confidence_Life_Style_Index_imputed</th>\n",
              "    </tr>\n",
              "  </thead>\n",
              "  <tbody>\n",
              "    <tr>\n",
              "      <th>131662</th>\n",
              "      <td>T0005689459</td>\n",
              "      <td>9.44</td>\n",
              "      <td>10.0</td>\n",
              "      <td>2.57438</td>\n",
              "      <td>B</td>\n",
              "      <td>3.68000</td>\n",
              "      <td>2</td>\n",
              "      <td>64.095972</td>\n",
              "      <td>46</td>\n",
              "      <td>63</td>\n",
              "      <td>1</td>\n",
              "      <td>2</td>\n",
              "      <td>2</td>\n",
              "    </tr>\n",
              "    <tr>\n",
              "      <th>131663</th>\n",
              "      <td>T0005689462</td>\n",
              "      <td>32.15</td>\n",
              "      <td>10.0</td>\n",
              "      <td>2.85143</td>\n",
              "      <td>A</td>\n",
              "      <td>1.59375</td>\n",
              "      <td>0</td>\n",
              "      <td>65.000000</td>\n",
              "      <td>49</td>\n",
              "      <td>80</td>\n",
              "      <td>0</td>\n",
              "      <td>1</td>\n",
              "      <td>2</td>\n",
              "    </tr>\n",
              "    <tr>\n",
              "      <th>131664</th>\n",
              "      <td>T0005689463</td>\n",
              "      <td>10.38</td>\n",
              "      <td>4.0</td>\n",
              "      <td>2.70530</td>\n",
              "      <td>D</td>\n",
              "      <td>4.50500</td>\n",
              "      <td>0</td>\n",
              "      <td>64.095972</td>\n",
              "      <td>47</td>\n",
              "      <td>74</td>\n",
              "      <td>1</td>\n",
              "      <td>5</td>\n",
              "      <td>2</td>\n",
              "    </tr>\n",
              "    <tr>\n",
              "      <th>131665</th>\n",
              "      <td>T0005689466</td>\n",
              "      <td>14.94</td>\n",
              "      <td>6.0</td>\n",
              "      <td>2.48159</td>\n",
              "      <td>E</td>\n",
              "      <td>4.53000</td>\n",
              "      <td>0</td>\n",
              "      <td>63.000000</td>\n",
              "      <td>43</td>\n",
              "      <td>54</td>\n",
              "      <td>1</td>\n",
              "      <td>0</td>\n",
              "      <td>5</td>\n",
              "    </tr>\n",
              "    <tr>\n",
              "      <th>131666</th>\n",
              "      <td>T0005689468</td>\n",
              "      <td>32.03</td>\n",
              "      <td>7.0</td>\n",
              "      <td>2.81598</td>\n",
              "      <td>K</td>\n",
              "      <td>4.60125</td>\n",
              "      <td>3</td>\n",
              "      <td>96.000000</td>\n",
              "      <td>44</td>\n",
              "      <td>56</td>\n",
              "      <td>1</td>\n",
              "      <td>1</td>\n",
              "      <td>2</td>\n",
              "    </tr>\n",
              "  </tbody>\n",
              "</table>\n",
              "</div>"
            ],
            "text/plain": [
              "            Trip_ID  ...  Confidence_Life_Style_Index_imputed\n",
              "131662  T0005689459  ...                                    2\n",
              "131663  T0005689462  ...                                    2\n",
              "131664  T0005689463  ...                                    2\n",
              "131665  T0005689466  ...                                    5\n",
              "131666  T0005689468  ...                                    2\n",
              "\n",
              "[5 rows x 13 columns]"
            ]
          },
          "metadata": {
            "tags": []
          },
          "execution_count": 13
        }
      ]
    },
    {
      "cell_type": "code",
      "metadata": {
        "id": "6pdepu7XbvRU",
        "colab_type": "code",
        "colab": {
          "base_uri": "https://localhost:8080/",
          "height": 402
        },
        "outputId": "15229075-76a4-4e61-e3c3-3f1911f593c6"
      },
      "source": [
        "predictions = model.predict(test.drop(\"Trip_ID\",axis=1))\n",
        "submission = pd.DataFrame(predictions,columns=['Surge_Pricing_Type'])\n",
        "submission['Trip_ID']=test[\"Trip_ID\"].values\n",
        "submission.to_csv(\"0.70352_iter_submission.csv\",index=None)\n",
        "submission"
      ],
      "execution_count": 124,
      "outputs": [
        {
          "output_type": "execute_result",
          "data": {
            "text/html": [
              "<div>\n",
              "<style scoped>\n",
              "    .dataframe tbody tr th:only-of-type {\n",
              "        vertical-align: middle;\n",
              "    }\n",
              "\n",
              "    .dataframe tbody tr th {\n",
              "        vertical-align: top;\n",
              "    }\n",
              "\n",
              "    .dataframe thead th {\n",
              "        text-align: right;\n",
              "    }\n",
              "</style>\n",
              "<table border=\"1\" class=\"dataframe\">\n",
              "  <thead>\n",
              "    <tr style=\"text-align: right;\">\n",
              "      <th></th>\n",
              "      <th>Surge_Pricing_Type</th>\n",
              "      <th>Trip_ID</th>\n",
              "    </tr>\n",
              "  </thead>\n",
              "  <tbody>\n",
              "    <tr>\n",
              "      <th>0</th>\n",
              "      <td>1.0</td>\n",
              "      <td>T0005689459</td>\n",
              "    </tr>\n",
              "    <tr>\n",
              "      <th>1</th>\n",
              "      <td>2.0</td>\n",
              "      <td>T0005689462</td>\n",
              "    </tr>\n",
              "    <tr>\n",
              "      <th>2</th>\n",
              "      <td>2.0</td>\n",
              "      <td>T0005689463</td>\n",
              "    </tr>\n",
              "    <tr>\n",
              "      <th>3</th>\n",
              "      <td>2.0</td>\n",
              "      <td>T0005689466</td>\n",
              "    </tr>\n",
              "    <tr>\n",
              "      <th>4</th>\n",
              "      <td>2.0</td>\n",
              "      <td>T0005689468</td>\n",
              "    </tr>\n",
              "    <tr>\n",
              "      <th>...</th>\n",
              "      <td>...</td>\n",
              "      <td>...</td>\n",
              "    </tr>\n",
              "    <tr>\n",
              "      <th>87390</th>\n",
              "      <td>2.0</td>\n",
              "      <td>T0005908503</td>\n",
              "    </tr>\n",
              "    <tr>\n",
              "      <th>87391</th>\n",
              "      <td>2.0</td>\n",
              "      <td>T0005908504</td>\n",
              "    </tr>\n",
              "    <tr>\n",
              "      <th>87392</th>\n",
              "      <td>1.0</td>\n",
              "      <td>T0005908505</td>\n",
              "    </tr>\n",
              "    <tr>\n",
              "      <th>87393</th>\n",
              "      <td>2.0</td>\n",
              "      <td>T0005908511</td>\n",
              "    </tr>\n",
              "    <tr>\n",
              "      <th>87394</th>\n",
              "      <td>2.0</td>\n",
              "      <td>T0005908515</td>\n",
              "    </tr>\n",
              "  </tbody>\n",
              "</table>\n",
              "<p>87395 rows × 2 columns</p>\n",
              "</div>"
            ],
            "text/plain": [
              "       Surge_Pricing_Type      Trip_ID\n",
              "0                     1.0  T0005689459\n",
              "1                     2.0  T0005689462\n",
              "2                     2.0  T0005689463\n",
              "3                     2.0  T0005689466\n",
              "4                     2.0  T0005689468\n",
              "...                   ...          ...\n",
              "87390                 2.0  T0005908503\n",
              "87391                 2.0  T0005908504\n",
              "87392                 1.0  T0005908505\n",
              "87393                 2.0  T0005908511\n",
              "87394                 2.0  T0005908515\n",
              "\n",
              "[87395 rows x 2 columns]"
            ]
          },
          "metadata": {
            "tags": []
          },
          "execution_count": 124
        }
      ]
    }
  ]
}